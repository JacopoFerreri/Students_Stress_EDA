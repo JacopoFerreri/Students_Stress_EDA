{
 "cells": [
  {
   "cell_type": "markdown",
   "metadata": {},
   "source": [
    "## Students' stress levels EDA\n",
    "This notebook has the purpose to put in practice some of the EDA skills gained in the first section of IBM Machine Learning Certificate course."
   ]
  },
  {
   "cell_type": "markdown",
   "metadata": {},
   "source": [
    "### Introduction to the datatset\n",
    "The chosen dataset for this project is the 'Student Stress Factors' dataset available on Kaggle at the following link: 'https://www.kaggle.com/datasets/rxnach/student-stress-factors-a-comprehensive-analysis'.\n",
    "\n",
    "The aim is to perform a comprehensive EDA and gain some insights as one would do before applying any ML modeling tool. The dataset is available under \"Apache 2.0 License\" and so it is free to use for any purpose.\n",
    "The dataset contains 1100 records of students' assessed strees levels, together with 20 other features:\n",
    "- anxiety level\n",
    "- self-esteem\n",
    "- mental heath\n",
    "- depression\n",
    "- blood pressure\n",
    "- headache\n",
    "- sleep quality\n",
    "- breathing problems\n",
    "- noise levels\n",
    "- living conditions\n",
    "- safety\n",
    "- basic needs\n",
    "- academic performance\n",
    "- study load\n",
    "- teacher-student realationship\n",
    "- future career concerns\n",
    "- social support\n",
    "- peer pressure\n",
    "- extracurricular activities\n",
    "- bullying\n",
    "\n",
    "For each of the prresented features, here are the corresponding ranges and collecttion methodology (source: \"https://www.kaggle.com/datasets/rxnach/student-stress-factors-a-comprehensive-analysis/discussion/451616\"):\n",
    "1) Anxiety level : range from 0 to 21, Measure : GAD-7\n",
    "2) Self-esteem : range 0 to 30, Measure: Rosenberg Self Esteem Scale\n",
    "3) Mental Health History : 0 if no mental health history, 1 if mental health history\n",
    "4) Depression : range 0 to 27, Measure: Patient Health Questionnaire (PHQ-9)\n",
    "5) Other features mostly range from 0 to 5 considering 0,1 to be low, 2,3 to be mid, and 4,5 to be high.\n",
    "\n",
    "The target variable, \"stress level\" can take values 0, 1 and 2. Meaning no stress, moderate stress and high stress respectively."
   ]
  },
  {
   "cell_type": "markdown",
   "metadata": {},
   "source": [
    "### Data loading\n",
    "We load data from the dataset's .csv file"
   ]
  },
  {
   "cell_type": "code",
   "execution_count": 1,
   "metadata": {},
   "outputs": [],
   "source": [
    "import pandas as pd\n",
    "import numpy as np\n",
    "import seaborn as sns\n",
    "\n",
    "import matplotlib.pyplot as plt\n",
    "%matplotlib inline"
   ]
  },
  {
   "cell_type": "code",
   "execution_count": 2,
   "metadata": {},
   "outputs": [],
   "source": [
    "file_name = 'StressLevelDataset.csv'\n",
    "with open(file_name,'r') as file:\n",
    "    data = pd.read_csv(file)"
   ]
  },
  {
   "cell_type": "code",
   "execution_count": 3,
   "metadata": {},
   "outputs": [
    {
     "data": {
      "text/html": [
       "<div>\n",
       "<style scoped>\n",
       "    .dataframe tbody tr th:only-of-type {\n",
       "        vertical-align: middle;\n",
       "    }\n",
       "\n",
       "    .dataframe tbody tr th {\n",
       "        vertical-align: top;\n",
       "    }\n",
       "\n",
       "    .dataframe thead th {\n",
       "        text-align: right;\n",
       "    }\n",
       "</style>\n",
       "<table border=\"1\" class=\"dataframe\">\n",
       "  <thead>\n",
       "    <tr style=\"text-align: right;\">\n",
       "      <th></th>\n",
       "      <th>anxiety_level</th>\n",
       "      <th>self_esteem</th>\n",
       "      <th>mental_health_history</th>\n",
       "      <th>depression</th>\n",
       "      <th>headache</th>\n",
       "      <th>blood_pressure</th>\n",
       "      <th>sleep_quality</th>\n",
       "      <th>breathing_problem</th>\n",
       "      <th>noise_level</th>\n",
       "      <th>living_conditions</th>\n",
       "      <th>safety</th>\n",
       "      <th>basic_needs</th>\n",
       "      <th>academic_performance</th>\n",
       "      <th>study_load</th>\n",
       "      <th>teacher_student_relationship</th>\n",
       "      <th>future_career_concerns</th>\n",
       "      <th>social_support</th>\n",
       "      <th>peer_pressure</th>\n",
       "      <th>extracurricular_activities</th>\n",
       "      <th>bullying</th>\n",
       "      <th>stress_level</th>\n",
       "    </tr>\n",
       "  </thead>\n",
       "  <tbody>\n",
       "    <tr>\n",
       "      <th>0</th>\n",
       "      <td>14</td>\n",
       "      <td>20</td>\n",
       "      <td>0</td>\n",
       "      <td>11</td>\n",
       "      <td>2</td>\n",
       "      <td>1</td>\n",
       "      <td>2</td>\n",
       "      <td>4</td>\n",
       "      <td>2</td>\n",
       "      <td>3</td>\n",
       "      <td>3</td>\n",
       "      <td>2</td>\n",
       "      <td>3</td>\n",
       "      <td>2</td>\n",
       "      <td>3</td>\n",
       "      <td>3</td>\n",
       "      <td>2</td>\n",
       "      <td>3</td>\n",
       "      <td>3</td>\n",
       "      <td>2</td>\n",
       "      <td>1</td>\n",
       "    </tr>\n",
       "    <tr>\n",
       "      <th>1</th>\n",
       "      <td>15</td>\n",
       "      <td>8</td>\n",
       "      <td>1</td>\n",
       "      <td>15</td>\n",
       "      <td>5</td>\n",
       "      <td>3</td>\n",
       "      <td>1</td>\n",
       "      <td>4</td>\n",
       "      <td>3</td>\n",
       "      <td>1</td>\n",
       "      <td>2</td>\n",
       "      <td>2</td>\n",
       "      <td>1</td>\n",
       "      <td>4</td>\n",
       "      <td>1</td>\n",
       "      <td>5</td>\n",
       "      <td>1</td>\n",
       "      <td>4</td>\n",
       "      <td>5</td>\n",
       "      <td>5</td>\n",
       "      <td>2</td>\n",
       "    </tr>\n",
       "    <tr>\n",
       "      <th>2</th>\n",
       "      <td>12</td>\n",
       "      <td>18</td>\n",
       "      <td>1</td>\n",
       "      <td>14</td>\n",
       "      <td>2</td>\n",
       "      <td>1</td>\n",
       "      <td>2</td>\n",
       "      <td>2</td>\n",
       "      <td>2</td>\n",
       "      <td>2</td>\n",
       "      <td>3</td>\n",
       "      <td>2</td>\n",
       "      <td>2</td>\n",
       "      <td>3</td>\n",
       "      <td>3</td>\n",
       "      <td>2</td>\n",
       "      <td>2</td>\n",
       "      <td>3</td>\n",
       "      <td>2</td>\n",
       "      <td>2</td>\n",
       "      <td>1</td>\n",
       "    </tr>\n",
       "    <tr>\n",
       "      <th>3</th>\n",
       "      <td>16</td>\n",
       "      <td>12</td>\n",
       "      <td>1</td>\n",
       "      <td>15</td>\n",
       "      <td>4</td>\n",
       "      <td>3</td>\n",
       "      <td>1</td>\n",
       "      <td>3</td>\n",
       "      <td>4</td>\n",
       "      <td>2</td>\n",
       "      <td>2</td>\n",
       "      <td>2</td>\n",
       "      <td>2</td>\n",
       "      <td>4</td>\n",
       "      <td>1</td>\n",
       "      <td>4</td>\n",
       "      <td>1</td>\n",
       "      <td>4</td>\n",
       "      <td>4</td>\n",
       "      <td>5</td>\n",
       "      <td>2</td>\n",
       "    </tr>\n",
       "    <tr>\n",
       "      <th>4</th>\n",
       "      <td>16</td>\n",
       "      <td>28</td>\n",
       "      <td>0</td>\n",
       "      <td>7</td>\n",
       "      <td>2</td>\n",
       "      <td>3</td>\n",
       "      <td>5</td>\n",
       "      <td>1</td>\n",
       "      <td>3</td>\n",
       "      <td>2</td>\n",
       "      <td>4</td>\n",
       "      <td>3</td>\n",
       "      <td>4</td>\n",
       "      <td>3</td>\n",
       "      <td>1</td>\n",
       "      <td>2</td>\n",
       "      <td>1</td>\n",
       "      <td>5</td>\n",
       "      <td>0</td>\n",
       "      <td>5</td>\n",
       "      <td>1</td>\n",
       "    </tr>\n",
       "  </tbody>\n",
       "</table>\n",
       "</div>"
      ],
      "text/plain": [
       "   anxiety_level  self_esteem  mental_health_history  depression  headache  \\\n",
       "0             14           20                      0          11         2   \n",
       "1             15            8                      1          15         5   \n",
       "2             12           18                      1          14         2   \n",
       "3             16           12                      1          15         4   \n",
       "4             16           28                      0           7         2   \n",
       "\n",
       "   blood_pressure  sleep_quality  breathing_problem  noise_level  \\\n",
       "0               1              2                  4            2   \n",
       "1               3              1                  4            3   \n",
       "2               1              2                  2            2   \n",
       "3               3              1                  3            4   \n",
       "4               3              5                  1            3   \n",
       "\n",
       "   living_conditions  safety  basic_needs  academic_performance  study_load  \\\n",
       "0                  3       3            2                     3           2   \n",
       "1                  1       2            2                     1           4   \n",
       "2                  2       3            2                     2           3   \n",
       "3                  2       2            2                     2           4   \n",
       "4                  2       4            3                     4           3   \n",
       "\n",
       "   teacher_student_relationship  future_career_concerns  social_support  \\\n",
       "0                             3                       3               2   \n",
       "1                             1                       5               1   \n",
       "2                             3                       2               2   \n",
       "3                             1                       4               1   \n",
       "4                             1                       2               1   \n",
       "\n",
       "   peer_pressure  extracurricular_activities  bullying  stress_level  \n",
       "0              3                           3         2             1  \n",
       "1              4                           5         5             2  \n",
       "2              3                           2         2             1  \n",
       "3              4                           4         5             2  \n",
       "4              5                           0         5             1  "
      ]
     },
     "metadata": {},
     "output_type": "display_data"
    }
   ],
   "source": [
    "with pd.option_context('display.max_rows',None,'display.max_columns',None,'display.precision',3):\n",
    "    display(data.head(5))"
   ]
  },
  {
   "cell_type": "markdown",
   "metadata": {},
   "source": [
    "## Data exploration\n",
    "\n",
    "The steps in our data exploration will be:\n",
    "1. Undestanding of dataset dimension, features types and basic information.\n",
    "2. Handling of possible missing data, duplicates, outliers. Is data clean? Can we improve its quality?\n",
    "3. Checking variables' distributions. Should we apply some methods for feature transformation to some of the analysed features?\n",
    "4. Insights. Which plots and statistics can wee use to gain some insights about our data?\n",
    "5. Hypothesis testing.\n",
    "6. Features selection. Which are the best features to use to predict a student's stress level?\n",
    "7. Next steps."
   ]
  },
  {
   "cell_type": "markdown",
   "metadata": {},
   "source": [
    "### 1) Undestanding of dataset dimension, features types and basic information."
   ]
  },
  {
   "cell_type": "code",
   "execution_count": 4,
   "metadata": {},
   "outputs": [
    {
     "data": {
      "text/html": [
       "<div>\n",
       "<style scoped>\n",
       "    .dataframe tbody tr th:only-of-type {\n",
       "        vertical-align: middle;\n",
       "    }\n",
       "\n",
       "    .dataframe tbody tr th {\n",
       "        vertical-align: top;\n",
       "    }\n",
       "\n",
       "    .dataframe thead th {\n",
       "        text-align: right;\n",
       "    }\n",
       "</style>\n",
       "<table border=\"1\" class=\"dataframe\">\n",
       "  <thead>\n",
       "    <tr style=\"text-align: right;\">\n",
       "      <th></th>\n",
       "      <th>anxiety_level</th>\n",
       "      <th>self_esteem</th>\n",
       "      <th>mental_health_history</th>\n",
       "      <th>depression</th>\n",
       "      <th>headache</th>\n",
       "      <th>blood_pressure</th>\n",
       "      <th>sleep_quality</th>\n",
       "      <th>breathing_problem</th>\n",
       "      <th>noise_level</th>\n",
       "      <th>living_conditions</th>\n",
       "      <th>safety</th>\n",
       "      <th>basic_needs</th>\n",
       "      <th>academic_performance</th>\n",
       "      <th>study_load</th>\n",
       "      <th>teacher_student_relationship</th>\n",
       "      <th>future_career_concerns</th>\n",
       "      <th>social_support</th>\n",
       "      <th>peer_pressure</th>\n",
       "      <th>extracurricular_activities</th>\n",
       "      <th>bullying</th>\n",
       "      <th>stress_level</th>\n",
       "    </tr>\n",
       "  </thead>\n",
       "  <tbody>\n",
       "    <tr>\n",
       "      <th>count</th>\n",
       "      <td>1100.000</td>\n",
       "      <td>1100.000</td>\n",
       "      <td>1100.000</td>\n",
       "      <td>1100.000</td>\n",
       "      <td>1100.000</td>\n",
       "      <td>1100.000</td>\n",
       "      <td>1100.000</td>\n",
       "      <td>1100.000</td>\n",
       "      <td>1100.000</td>\n",
       "      <td>1100.000</td>\n",
       "      <td>1100.000</td>\n",
       "      <td>1100.000</td>\n",
       "      <td>1100.000</td>\n",
       "      <td>1100.000</td>\n",
       "      <td>1100.000</td>\n",
       "      <td>1100.000</td>\n",
       "      <td>1100.000</td>\n",
       "      <td>1100.000</td>\n",
       "      <td>1100.000</td>\n",
       "      <td>1100.000</td>\n",
       "      <td>1100.000</td>\n",
       "    </tr>\n",
       "    <tr>\n",
       "      <th>mean</th>\n",
       "      <td>11.064</td>\n",
       "      <td>17.777</td>\n",
       "      <td>0.493</td>\n",
       "      <td>12.555</td>\n",
       "      <td>2.508</td>\n",
       "      <td>2.182</td>\n",
       "      <td>2.660</td>\n",
       "      <td>2.754</td>\n",
       "      <td>2.649</td>\n",
       "      <td>2.518</td>\n",
       "      <td>2.737</td>\n",
       "      <td>2.773</td>\n",
       "      <td>2.773</td>\n",
       "      <td>2.622</td>\n",
       "      <td>2.648</td>\n",
       "      <td>2.649</td>\n",
       "      <td>1.882</td>\n",
       "      <td>2.735</td>\n",
       "      <td>2.767</td>\n",
       "      <td>2.617</td>\n",
       "      <td>0.996</td>\n",
       "    </tr>\n",
       "    <tr>\n",
       "      <th>std</th>\n",
       "      <td>6.118</td>\n",
       "      <td>8.945</td>\n",
       "      <td>0.500</td>\n",
       "      <td>7.727</td>\n",
       "      <td>1.409</td>\n",
       "      <td>0.834</td>\n",
       "      <td>1.548</td>\n",
       "      <td>1.401</td>\n",
       "      <td>1.328</td>\n",
       "      <td>1.119</td>\n",
       "      <td>1.406</td>\n",
       "      <td>1.434</td>\n",
       "      <td>1.415</td>\n",
       "      <td>1.316</td>\n",
       "      <td>1.385</td>\n",
       "      <td>1.529</td>\n",
       "      <td>1.048</td>\n",
       "      <td>1.425</td>\n",
       "      <td>1.418</td>\n",
       "      <td>1.531</td>\n",
       "      <td>0.822</td>\n",
       "    </tr>\n",
       "    <tr>\n",
       "      <th>min</th>\n",
       "      <td>0.000</td>\n",
       "      <td>0.000</td>\n",
       "      <td>0.000</td>\n",
       "      <td>0.000</td>\n",
       "      <td>0.000</td>\n",
       "      <td>1.000</td>\n",
       "      <td>0.000</td>\n",
       "      <td>0.000</td>\n",
       "      <td>0.000</td>\n",
       "      <td>0.000</td>\n",
       "      <td>0.000</td>\n",
       "      <td>0.000</td>\n",
       "      <td>0.000</td>\n",
       "      <td>0.000</td>\n",
       "      <td>0.000</td>\n",
       "      <td>0.000</td>\n",
       "      <td>0.000</td>\n",
       "      <td>0.000</td>\n",
       "      <td>0.000</td>\n",
       "      <td>0.000</td>\n",
       "      <td>0.000</td>\n",
       "    </tr>\n",
       "    <tr>\n",
       "      <th>25%</th>\n",
       "      <td>6.000</td>\n",
       "      <td>11.000</td>\n",
       "      <td>0.000</td>\n",
       "      <td>6.000</td>\n",
       "      <td>1.000</td>\n",
       "      <td>1.000</td>\n",
       "      <td>1.000</td>\n",
       "      <td>2.000</td>\n",
       "      <td>2.000</td>\n",
       "      <td>2.000</td>\n",
       "      <td>2.000</td>\n",
       "      <td>2.000</td>\n",
       "      <td>2.000</td>\n",
       "      <td>2.000</td>\n",
       "      <td>2.000</td>\n",
       "      <td>1.000</td>\n",
       "      <td>1.000</td>\n",
       "      <td>2.000</td>\n",
       "      <td>2.000</td>\n",
       "      <td>1.000</td>\n",
       "      <td>0.000</td>\n",
       "    </tr>\n",
       "    <tr>\n",
       "      <th>50%</th>\n",
       "      <td>11.000</td>\n",
       "      <td>19.000</td>\n",
       "      <td>0.000</td>\n",
       "      <td>12.000</td>\n",
       "      <td>3.000</td>\n",
       "      <td>2.000</td>\n",
       "      <td>2.500</td>\n",
       "      <td>3.000</td>\n",
       "      <td>3.000</td>\n",
       "      <td>2.000</td>\n",
       "      <td>2.000</td>\n",
       "      <td>3.000</td>\n",
       "      <td>2.000</td>\n",
       "      <td>2.000</td>\n",
       "      <td>2.000</td>\n",
       "      <td>2.000</td>\n",
       "      <td>2.000</td>\n",
       "      <td>2.000</td>\n",
       "      <td>2.500</td>\n",
       "      <td>3.000</td>\n",
       "      <td>1.000</td>\n",
       "    </tr>\n",
       "    <tr>\n",
       "      <th>75%</th>\n",
       "      <td>16.000</td>\n",
       "      <td>26.000</td>\n",
       "      <td>1.000</td>\n",
       "      <td>19.000</td>\n",
       "      <td>3.000</td>\n",
       "      <td>3.000</td>\n",
       "      <td>4.000</td>\n",
       "      <td>4.000</td>\n",
       "      <td>3.000</td>\n",
       "      <td>3.000</td>\n",
       "      <td>4.000</td>\n",
       "      <td>4.000</td>\n",
       "      <td>4.000</td>\n",
       "      <td>3.000</td>\n",
       "      <td>4.000</td>\n",
       "      <td>4.000</td>\n",
       "      <td>3.000</td>\n",
       "      <td>4.000</td>\n",
       "      <td>4.000</td>\n",
       "      <td>4.000</td>\n",
       "      <td>2.000</td>\n",
       "    </tr>\n",
       "    <tr>\n",
       "      <th>max</th>\n",
       "      <td>21.000</td>\n",
       "      <td>30.000</td>\n",
       "      <td>1.000</td>\n",
       "      <td>27.000</td>\n",
       "      <td>5.000</td>\n",
       "      <td>3.000</td>\n",
       "      <td>5.000</td>\n",
       "      <td>5.000</td>\n",
       "      <td>5.000</td>\n",
       "      <td>5.000</td>\n",
       "      <td>5.000</td>\n",
       "      <td>5.000</td>\n",
       "      <td>5.000</td>\n",
       "      <td>5.000</td>\n",
       "      <td>5.000</td>\n",
       "      <td>5.000</td>\n",
       "      <td>3.000</td>\n",
       "      <td>5.000</td>\n",
       "      <td>5.000</td>\n",
       "      <td>5.000</td>\n",
       "      <td>2.000</td>\n",
       "    </tr>\n",
       "  </tbody>\n",
       "</table>\n",
       "</div>"
      ],
      "text/plain": [
       "       anxiety_level  self_esteem  mental_health_history  depression  \\\n",
       "count       1100.000     1100.000               1100.000    1100.000   \n",
       "mean          11.064       17.777                  0.493      12.555   \n",
       "std            6.118        8.945                  0.500       7.727   \n",
       "min            0.000        0.000                  0.000       0.000   \n",
       "25%            6.000       11.000                  0.000       6.000   \n",
       "50%           11.000       19.000                  0.000      12.000   \n",
       "75%           16.000       26.000                  1.000      19.000   \n",
       "max           21.000       30.000                  1.000      27.000   \n",
       "\n",
       "       headache  blood_pressure  sleep_quality  breathing_problem  \\\n",
       "count  1100.000        1100.000       1100.000           1100.000   \n",
       "mean      2.508           2.182          2.660              2.754   \n",
       "std       1.409           0.834          1.548              1.401   \n",
       "min       0.000           1.000          0.000              0.000   \n",
       "25%       1.000           1.000          1.000              2.000   \n",
       "50%       3.000           2.000          2.500              3.000   \n",
       "75%       3.000           3.000          4.000              4.000   \n",
       "max       5.000           3.000          5.000              5.000   \n",
       "\n",
       "       noise_level  living_conditions    safety  basic_needs  \\\n",
       "count     1100.000           1100.000  1100.000     1100.000   \n",
       "mean         2.649              2.518     2.737        2.773   \n",
       "std          1.328              1.119     1.406        1.434   \n",
       "min          0.000              0.000     0.000        0.000   \n",
       "25%          2.000              2.000     2.000        2.000   \n",
       "50%          3.000              2.000     2.000        3.000   \n",
       "75%          3.000              3.000     4.000        4.000   \n",
       "max          5.000              5.000     5.000        5.000   \n",
       "\n",
       "       academic_performance  study_load  teacher_student_relationship  \\\n",
       "count              1100.000    1100.000                      1100.000   \n",
       "mean                  2.773       2.622                         2.648   \n",
       "std                   1.415       1.316                         1.385   \n",
       "min                   0.000       0.000                         0.000   \n",
       "25%                   2.000       2.000                         2.000   \n",
       "50%                   2.000       2.000                         2.000   \n",
       "75%                   4.000       3.000                         4.000   \n",
       "max                   5.000       5.000                         5.000   \n",
       "\n",
       "       future_career_concerns  social_support  peer_pressure  \\\n",
       "count                1100.000        1100.000       1100.000   \n",
       "mean                    2.649           1.882          2.735   \n",
       "std                     1.529           1.048          1.425   \n",
       "min                     0.000           0.000          0.000   \n",
       "25%                     1.000           1.000          2.000   \n",
       "50%                     2.000           2.000          2.000   \n",
       "75%                     4.000           3.000          4.000   \n",
       "max                     5.000           3.000          5.000   \n",
       "\n",
       "       extracurricular_activities  bullying  stress_level  \n",
       "count                    1100.000  1100.000      1100.000  \n",
       "mean                        2.767     2.617         0.996  \n",
       "std                         1.418     1.531         0.822  \n",
       "min                         0.000     0.000         0.000  \n",
       "25%                         2.000     1.000         0.000  \n",
       "50%                         2.500     3.000         1.000  \n",
       "75%                         4.000     4.000         2.000  \n",
       "max                         5.000     5.000         2.000  "
      ]
     },
     "metadata": {},
     "output_type": "display_data"
    }
   ],
   "source": [
    "with pd.option_context('display.max_rows',None,'display.max_columns',None,'display.precision',3):\n",
    "    display(data.describe())\n"
   ]
  },
  {
   "cell_type": "code",
   "execution_count": 5,
   "metadata": {},
   "outputs": [
    {
     "data": {
      "text/plain": [
       "(1100, 21)"
      ]
     },
     "execution_count": 5,
     "metadata": {},
     "output_type": "execute_result"
    }
   ],
   "source": [
    "data.shape"
   ]
  },
  {
   "cell_type": "code",
   "execution_count": 6,
   "metadata": {},
   "outputs": [
    {
     "name": "stdout",
     "output_type": "stream",
     "text": [
      "<class 'pandas.core.frame.DataFrame'>\n",
      "RangeIndex: 1100 entries, 0 to 1099\n",
      "Data columns (total 21 columns):\n",
      " #   Column                        Non-Null Count  Dtype\n",
      "---  ------                        --------------  -----\n",
      " 0   anxiety_level                 1100 non-null   int64\n",
      " 1   self_esteem                   1100 non-null   int64\n",
      " 2   mental_health_history         1100 non-null   int64\n",
      " 3   depression                    1100 non-null   int64\n",
      " 4   headache                      1100 non-null   int64\n",
      " 5   blood_pressure                1100 non-null   int64\n",
      " 6   sleep_quality                 1100 non-null   int64\n",
      " 7   breathing_problem             1100 non-null   int64\n",
      " 8   noise_level                   1100 non-null   int64\n",
      " 9   living_conditions             1100 non-null   int64\n",
      " 10  safety                        1100 non-null   int64\n",
      " 11  basic_needs                   1100 non-null   int64\n",
      " 12  academic_performance          1100 non-null   int64\n",
      " 13  study_load                    1100 non-null   int64\n",
      " 14  teacher_student_relationship  1100 non-null   int64\n",
      " 15  future_career_concerns        1100 non-null   int64\n",
      " 16  social_support                1100 non-null   int64\n",
      " 17  peer_pressure                 1100 non-null   int64\n",
      " 18  extracurricular_activities    1100 non-null   int64\n",
      " 19  bullying                      1100 non-null   int64\n",
      " 20  stress_level                  1100 non-null   int64\n",
      "dtypes: int64(21)\n",
      "memory usage: 180.6 KB\n"
     ]
    }
   ],
   "source": [
    "data.info()"
   ]
  },
  {
   "cell_type": "markdown",
   "metadata": {},
   "source": [
    "Coherently with the dateset description, we find 21 columns, each being of integer type and with non-null values. The author of the dataset already made sure that no missing values were reported in the dataset for each of the 1100 rows reported."
   ]
  },
  {
   "cell_type": "markdown",
   "metadata": {},
   "source": [
    "### 2) Handling of possible missing data, duplicates, outliers. Is data clean? Can we improve its quality?"
   ]
  },
  {
   "cell_type": "markdown",
   "metadata": {},
   "source": [
    "Checking for missing values..."
   ]
  },
  {
   "cell_type": "code",
   "execution_count": 7,
   "metadata": {},
   "outputs": [
    {
     "data": {
      "text/plain": [
       "anxiety_level                   0\n",
       "self_esteem                     0\n",
       "mental_health_history           0\n",
       "depression                      0\n",
       "headache                        0\n",
       "blood_pressure                  0\n",
       "sleep_quality                   0\n",
       "breathing_problem               0\n",
       "noise_level                     0\n",
       "living_conditions               0\n",
       "safety                          0\n",
       "basic_needs                     0\n",
       "academic_performance            0\n",
       "study_load                      0\n",
       "teacher_student_relationship    0\n",
       "future_career_concerns          0\n",
       "social_support                  0\n",
       "peer_pressure                   0\n",
       "extracurricular_activities      0\n",
       "bullying                        0\n",
       "stress_level                    0\n",
       "dtype: int64"
      ]
     },
     "execution_count": 7,
     "metadata": {},
     "output_type": "execute_result"
    }
   ],
   "source": [
    "data.isnull().sum()"
   ]
  },
  {
   "cell_type": "markdown",
   "metadata": {},
   "source": [
    "As already stated, we have no missing values. This is quite rare in this kind of surveys so we can suppose the author already performed some data cleaning activities...\n",
    "\n",
    "Supposing there were missing values for some of the records, how could have we managed them? In this kind of survey, where all values are integer numbers we couldn't have replaced missing values with the mean. A method could have been replacing missing data with the more frequent value for features ranging up to 5. For higher range features like \"self-esteem\" or \"anxiety-level\" also the median could have been a good replacement."
   ]
  },
  {
   "cell_type": "markdown",
   "metadata": {},
   "source": [
    "Checking for duplicate values..."
   ]
  },
  {
   "cell_type": "code",
   "execution_count": 8,
   "metadata": {},
   "outputs": [
    {
     "data": {
      "text/plain": [
       "True"
      ]
     },
     "execution_count": 8,
     "metadata": {},
     "output_type": "execute_result"
    }
   ],
   "source": [
    "data.index.is_unique"
   ]
  },
  {
   "cell_type": "markdown",
   "metadata": {},
   "source": [
    "We have no duplicate values"
   ]
  },
  {
   "cell_type": "markdown",
   "metadata": {},
   "source": [
    "Checking for outliers in the higher range features..."
   ]
  },
  {
   "cell_type": "code",
   "execution_count": 9,
   "metadata": {},
   "outputs": [
    {
     "data": {
      "image/png": "[encoded data removed]",
      "text/plain": [
       "<Figure size 432x288 with 1 Axes>"
      ]
     },
     "metadata": {
      "needs_background": "light"
     },
     "output_type": "display_data"
    }
   ],
   "source": [
    "sns.boxplot(data=data, x='anxiety_level')\n",
    "plt.show()"
   ]
  },
  {
   "cell_type": "code",
   "execution_count": 10,
   "metadata": {},
   "outputs": [
    {
     "data": {
      "image/png": "[encoded data removed]",
      "text/plain": [
       "<Figure size 432x288 with 1 Axes>"
      ]
     },
     "metadata": {
      "needs_background": "light"
     },
     "output_type": "display_data"
    }
   ],
   "source": [
    "sns.boxplot(data=data, x='self_esteem')\n",
    "plt.show()"
   ]
  },
  {
   "cell_type": "code",
   "execution_count": 11,
   "metadata": {},
   "outputs": [
    {
     "data": {
      "image/png": "[encoded data removed]",
      "text/plain": [
       "<Figure size 432x288 with 1 Axes>"
      ]
     },
     "metadata": {
      "needs_background": "light"
     },
     "output_type": "display_data"
    }
   ],
   "source": [
    "sns.boxplot(data=data, x='depression')\n",
    "plt.show()"
   ]
  },
  {
   "cell_type": "markdown",
   "metadata": {},
   "source": [
    "We can state that no outliers are present in our dataset.\n",
    "\n",
    "To conclude this part of the anlysis we can say that the dataset presented is already clean and and can be readily used to gain some insights."
   ]
  },
  {
   "cell_type": "markdown",
   "metadata": {},
   "source": [
    "### 3) Checking variables' distributions. Should we apply some methods for feature transformation to some of the analysed features?"
   ]
  },
  {
   "cell_type": "code",
   "execution_count": 12,
   "metadata": {},
   "outputs": [
    {
     "data": {
      "image/png": "[encoded data removed]",
      "text/plain": [
       "<Figure size 1296x432 with 3 Axes>"
      ]
     },
     "metadata": {
      "needs_background": "light"
     },
     "output_type": "display_data"
    }
   ],
   "source": [
    "checked_data = data[['self_esteem','anxiety_level','depression']]\n",
    "\n",
    "fig, axs = plt.subplots(nrows=1,ncols=3,figsize=(18, 6),sharey=False)\n",
    "for i, ax in enumerate(axs):\n",
    "    ax.hist(x=checked_data.iloc[:,i],bins=20)\n",
    "    ax.set_xlabel(checked_data.columns[i])\n",
    "    ax.set_ylabel('frequency')"
   ]
  },
  {
   "cell_type": "code",
   "execution_count": 13,
   "metadata": {},
   "outputs": [
    {
     "data": {
      "image/png": "[encoded data removed]",
      "text/plain": [
       "<Figure size 1296x432 with 3 Axes>"
      ]
     },
     "metadata": {
      "needs_background": "light"
     },
     "output_type": "display_data"
    }
   ],
   "source": [
    "checked_data = data[['sleep_quality','peer_pressure','study_load']]\n",
    "\n",
    "fig, axs = plt.subplots(nrows=1,ncols=3,figsize=(18, 6),sharey=False)\n",
    "for i, ax in enumerate(axs):\n",
    "    ax.hist(x=checked_data.iloc[:,i],bins=20)\n",
    "    ax.set_xlabel(checked_data.columns[i])\n",
    "    ax.set_ylabel('frequency')"
   ]
  },
  {
   "cell_type": "markdown",
   "metadata": {},
   "source": [
    "From these visualizations we can understand already that not all the variables are perfectly normally distributed around their mean. Let's analyze their skewness..."
   ]
  },
  {
   "cell_type": "code",
   "execution_count": 14,
   "metadata": {},
   "outputs": [
    {
     "data": {
      "text/html": [
       "<div>\n",
       "<style scoped>\n",
       "    .dataframe tbody tr th:only-of-type {\n",
       "        vertical-align: middle;\n",
       "    }\n",
       "\n",
       "    .dataframe tbody tr th {\n",
       "        vertical-align: top;\n",
       "    }\n",
       "\n",
       "    .dataframe thead th {\n",
       "        text-align: right;\n",
       "    }\n",
       "</style>\n",
       "<table border=\"1\" class=\"dataframe\">\n",
       "  <thead>\n",
       "    <tr style=\"text-align: right;\">\n",
       "      <th></th>\n",
       "      <th>Skew</th>\n",
       "    </tr>\n",
       "  </thead>\n",
       "  <tbody>\n",
       "    <tr>\n",
       "      <th>headache</th>\n",
       "      <td>0.270494</td>\n",
       "    </tr>\n",
       "    <tr>\n",
       "      <th>study_load</th>\n",
       "      <td>0.228964</td>\n",
       "    </tr>\n",
       "    <tr>\n",
       "      <th>depression</th>\n",
       "      <td>0.216638</td>\n",
       "    </tr>\n",
       "    <tr>\n",
       "      <th>noise_level</th>\n",
       "      <td>0.207122</td>\n",
       "    </tr>\n",
       "    <tr>\n",
       "      <th>future_career_concerns</th>\n",
       "      <td>0.204276</td>\n",
       "    </tr>\n",
       "    <tr>\n",
       "      <th>teacher_student_relationship</th>\n",
       "      <td>0.198016</td>\n",
       "    </tr>\n",
       "    <tr>\n",
       "      <th>peer_pressure</th>\n",
       "      <td>0.194719</td>\n",
       "    </tr>\n",
       "    <tr>\n",
       "      <th>safety</th>\n",
       "      <td>0.188097</td>\n",
       "    </tr>\n",
       "    <tr>\n",
       "      <th>academic_performance</th>\n",
       "      <td>0.184316</td>\n",
       "    </tr>\n",
       "    <tr>\n",
       "      <th>sleep_quality</th>\n",
       "      <td>0.177975</td>\n",
       "    </tr>\n",
       "    <tr>\n",
       "      <th>bullying</th>\n",
       "      <td>0.175348</td>\n",
       "    </tr>\n",
       "    <tr>\n",
       "      <th>basic_needs</th>\n",
       "      <td>0.135859</td>\n",
       "    </tr>\n",
       "    <tr>\n",
       "      <th>extracurricular_activities</th>\n",
       "      <td>0.135604</td>\n",
       "    </tr>\n",
       "    <tr>\n",
       "      <th>living_conditions</th>\n",
       "      <td>0.018794</td>\n",
       "    </tr>\n",
       "    <tr>\n",
       "      <th>stress_level</th>\n",
       "      <td>0.006728</td>\n",
       "    </tr>\n",
       "    <tr>\n",
       "      <th>breathing_problem</th>\n",
       "      <td>-0.001625</td>\n",
       "    </tr>\n",
       "    <tr>\n",
       "      <th>anxiety_level</th>\n",
       "      <td>-0.082612</td>\n",
       "    </tr>\n",
       "    <tr>\n",
       "      <th>social_support</th>\n",
       "      <td>-0.180958</td>\n",
       "    </tr>\n",
       "    <tr>\n",
       "      <th>blood_pressure</th>\n",
       "      <td>-0.351186</td>\n",
       "    </tr>\n",
       "    <tr>\n",
       "      <th>self_esteem</th>\n",
       "      <td>-0.396539</td>\n",
       "    </tr>\n",
       "  </tbody>\n",
       "</table>\n",
       "</div>"
      ],
      "text/plain": [
       "                                  Skew\n",
       "headache                      0.270494\n",
       "study_load                    0.228964\n",
       "depression                    0.216638\n",
       "noise_level                   0.207122\n",
       "future_career_concerns        0.204276\n",
       "teacher_student_relationship  0.198016\n",
       "peer_pressure                 0.194719\n",
       "safety                        0.188097\n",
       "academic_performance          0.184316\n",
       "sleep_quality                 0.177975\n",
       "bullying                      0.175348\n",
       "basic_needs                   0.135859\n",
       "extracurricular_activities    0.135604\n",
       "living_conditions             0.018794\n",
       "stress_level                  0.006728\n",
       "breathing_problem            -0.001625\n",
       "anxiety_level                -0.082612\n",
       "social_support               -0.180958\n",
       "blood_pressure               -0.351186\n",
       "self_esteem                  -0.396539"
      ]
     },
     "execution_count": 14,
     "metadata": {},
     "output_type": "execute_result"
    }
   ],
   "source": [
    "#we first drop the \"metal_health_history\" feature because it is a binary variable\n",
    "skew_data = data.drop('mental_health_history', axis =1)\n",
    "\n",
    "#skewness computation\n",
    "skew_vals = skew_data.skew()\n",
    "# Showing the skewed columns\n",
    "skew_cols = (skew_vals.sort_values(ascending=False).to_frame().rename(columns={0:'Skew'}))\n",
    "\n",
    "skew_cols"
   ]
  },
  {
   "cell_type": "markdown",
   "metadata": {},
   "source": [
    "The skewness values however falls into the acceptable (-0.5; 0.5) range so we can assume a normal distibution for all of the features. No further transformation is needed."
   ]
  },
  {
   "cell_type": "markdown",
   "metadata": {},
   "source": [
    "### 4) Insights. Which plots and statistics can wee use to gain some insights about our data?\n",
    "\n"
   ]
  },
  {
   "cell_type": "markdown",
   "metadata": {},
   "source": [
    "First, let's check the average values for each of the features to catch the average feeling of surveyed students."
   ]
  },
  {
   "cell_type": "code",
   "execution_count": 15,
   "metadata": {},
   "outputs": [
    {
     "data": {
      "text/plain": [
       "mental_health_history            0.492727\n",
       "stress_level                     0.996364\n",
       "social_support                   1.881818\n",
       "blood_pressure                   2.181818\n",
       "headache                         2.508182\n",
       "living_conditions                2.518182\n",
       "bullying                         2.617273\n",
       "study_load                       2.621818\n",
       "teacher_student_relationship     2.648182\n",
       "future_career_concerns           2.649091\n",
       "noise_level                      2.649091\n",
       "sleep_quality                    2.660000\n",
       "peer_pressure                    2.734545\n",
       "safety                           2.737273\n",
       "breathing_problem                2.753636\n",
       "extracurricular_activities       2.767273\n",
       "basic_needs                      2.772727\n",
       "academic_performance             2.772727\n",
       "anxiety_level                   11.063636\n",
       "depression                      12.555455\n",
       "self_esteem                     17.777273\n",
       "dtype: float64"
      ]
     },
     "execution_count": 15,
     "metadata": {},
     "output_type": "execute_result"
    }
   ],
   "source": [
    "mean_data = data.mean().sort_values()\n",
    "mean_data"
   ]
  },
  {
   "cell_type": "markdown",
   "metadata": {},
   "source": [
    "We can state that, on average students are experiencing a moderate stress level. Moreover, among the 0 to 5 scale freatures, social suppport is the lowest. This could be saying that, on average, students feel that more could be done to improve their general well-being by increasing social support. For future research, it could be interesting to study whether the schools of the surveyed students offer a free psycological support to their students.\n",
    "\n",
    "Let's investigate more some relationships betweeen data, for example how are axiety levels distributed among the different academic_performance levels?"
   ]
  },
  {
   "cell_type": "code",
   "execution_count": 16,
   "metadata": {},
   "outputs": [
    {
     "data": {
      "image/png": "[encoded data removed]",
      "text/plain": [
       "<Figure size 720x432 with 1 Axes>"
      ]
     },
     "metadata": {
      "needs_background": "light"
     },
     "output_type": "display_data"
    }
   ],
   "source": [
    "plt.figure(figsize=(10,6))\n",
    "sns.boxplot(data=data, x='academic_performance', y='anxiety_level')\n",
    "plt.grid()\n",
    "plt.show()"
   ]
  },
  {
   "cell_type": "markdown",
   "metadata": {},
   "source": [
    "It would seem that, as expected, average anxiety levels decrease with the increase of the academic performance, but they stay around the average when they are very poor (academic_performance = 0). \n",
    "\n",
    "Hypothesis 1: The average anxiety level of students with strong academic performance (i.e. 4 or 5) is the same.\n",
    "\n",
    "$ 𝐻_{0}:\\mu_{4} = \\mu_{5} $ The average anxiety levels are the same for students with strong and very strong academic performace. \\\n",
    "$ 𝐻_{A}:\\mu_{4} \\ne \\mu_{5} $ The average anxiety levels are NOT the same for students with strong and very strong academic performace.\n",
    "\n",
    "Let's see how the above features are related to stress levels."
   ]
  },
  {
   "cell_type": "code",
   "execution_count": 17,
   "metadata": {},
   "outputs": [
    {
     "data": {
      "image/png": "[encoded data removed]",
      "text/plain": [
       "<Figure size 1008x432 with 1 Axes>"
      ]
     },
     "metadata": {
      "needs_background": "light"
     },
     "output_type": "display_data"
    }
   ],
   "source": [
    "plt.figure(figsize=(14,6))\n",
    "sns.boxplot(data=data, x='academic_performance', y='anxiety_level', hue='stress_level')\n",
    "plt.grid()\n",
    "plt.show()"
   ]
  },
  {
   "cell_type": "markdown",
   "metadata": {},
   "source": [
    "Hypothesis 2: The average anxiety level of students with academic_performance = 4 does not depend on the stress level.\n",
    "\n",
    "$ 𝐻_{0}:\\mu_{1}=\\mu_{2}=\\mu_{3} $ The mean anxiety level of student with academic_performance = 4 with no stress, moderate stress, and high stress are the same. \\\n",
    "$ 𝐻_{A}: $ At least one of the means is not the same."
   ]
  },
  {
   "cell_type": "markdown",
   "metadata": {},
   "source": [
    "Now we want to know how the proportion of students with mental health history is distributed among the academic performance levels. To do this, we'll need a pivot table (contingency table) of the two variables."
   ]
  },
  {
   "cell_type": "code",
   "execution_count": 18,
   "metadata": {},
   "outputs": [
    {
     "data": {
      "text/html": [
       "<div>\n",
       "<style scoped>\n",
       "    .dataframe tbody tr th:only-of-type {\n",
       "        vertical-align: middle;\n",
       "    }\n",
       "\n",
       "    .dataframe tbody tr th {\n",
       "        vertical-align: top;\n",
       "    }\n",
       "\n",
       "    .dataframe thead th {\n",
       "        text-align: right;\n",
       "    }\n",
       "</style>\n",
       "<table border=\"1\" class=\"dataframe\">\n",
       "  <thead>\n",
       "    <tr style=\"text-align: right;\">\n",
       "      <th>mental_health_history</th>\n",
       "      <th>0</th>\n",
       "      <th>1</th>\n",
       "    </tr>\n",
       "    <tr>\n",
       "      <th>academic_performance</th>\n",
       "      <th></th>\n",
       "      <th></th>\n",
       "    </tr>\n",
       "  </thead>\n",
       "  <tbody>\n",
       "    <tr>\n",
       "      <th>0</th>\n",
       "      <td>17</td>\n",
       "      <td>11</td>\n",
       "    </tr>\n",
       "    <tr>\n",
       "      <th>1</th>\n",
       "      <td>13</td>\n",
       "      <td>172</td>\n",
       "    </tr>\n",
       "    <tr>\n",
       "      <th>2</th>\n",
       "      <td>105</td>\n",
       "      <td>243</td>\n",
       "    </tr>\n",
       "    <tr>\n",
       "      <th>3</th>\n",
       "      <td>82</td>\n",
       "      <td>87</td>\n",
       "    </tr>\n",
       "    <tr>\n",
       "      <th>4</th>\n",
       "      <td>171</td>\n",
       "      <td>17</td>\n",
       "    </tr>\n",
       "    <tr>\n",
       "      <th>5</th>\n",
       "      <td>170</td>\n",
       "      <td>12</td>\n",
       "    </tr>\n",
       "  </tbody>\n",
       "</table>\n",
       "</div>"
      ],
      "text/plain": [
       "mental_health_history    0    1\n",
       "academic_performance           \n",
       "0                       17   11\n",
       "1                       13  172\n",
       "2                      105  243\n",
       "3                       82   87\n",
       "4                      171   17\n",
       "5                      170   12"
      ]
     },
     "execution_count": 18,
     "metadata": {},
     "output_type": "execute_result"
    }
   ],
   "source": [
    "pivot = pd.crosstab(data['academic_performance'],data['mental_health_history'])\n",
    "pivot"
   ]
  },
  {
   "cell_type": "code",
   "execution_count": 19,
   "metadata": {},
   "outputs": [
    {
     "data": {
      "text/plain": [
       "<AxesSubplot:xlabel='academic_performance'>"
      ]
     },
     "execution_count": 19,
     "metadata": {},
     "output_type": "execute_result"
    },
    {
     "data": {
      "image/png": "[encoded data removed]",
      "text/plain": [
       "<Figure size 432x288 with 1 Axes>"
      ]
     },
     "metadata": {
      "needs_background": "light"
     },
     "output_type": "display_data"
    }
   ],
   "source": [
    "pivot.plot(kind='bar')"
   ]
  },
  {
   "cell_type": "markdown",
   "metadata": {},
   "source": [
    "Hypothesis 3: The proportion of students with mental health history is not the same among the different academic performace categories.\n",
    "\n",
    "$ 𝐻_{0} $: Students with mental health history proportions are significantly different across the different academic performace categories. \\\n",
    "$ 𝐻_{A} $: Students with mental health history proportions are NOT significantly different across the different academic performace categories."
   ]
  },
  {
   "cell_type": "markdown",
   "metadata": {},
   "source": [
    "A pivot table can also be used to create a heatmap of how self-esteem and anxiety levels are related."
   ]
  },
  {
   "cell_type": "code",
   "execution_count": 20,
   "metadata": {},
   "outputs": [
    {
     "data": {
      "image/png": "[encoded data removed]",
      "text/plain": [
       "<Figure size 720x576 with 2 Axes>"
      ]
     },
     "metadata": {
      "needs_background": "light"
     },
     "output_type": "display_data"
    }
   ],
   "source": [
    "pivot_2 = pd.crosstab(data['self_esteem'],data['anxiety_level'])\n",
    "plt.figure(figsize=(10,8))\n",
    "sns.heatmap(pivot_2,annot=True)\n",
    "plt.show()"
   ]
  },
  {
   "cell_type": "markdown",
   "metadata": {},
   "source": [
    "As expected a negative correration can be found among anxiety levels and self-esteem.\n",
    "\n",
    "Then, we could try and understand which variables have higher correlation with our target variable that is \"stress_level\""
   ]
  },
  {
   "cell_type": "code",
   "execution_count": 21,
   "metadata": {},
   "outputs": [
    {
     "data": {
      "text/plain": [
       "self_esteem                    -0.756195\n",
       "sleep_quality                  -0.749068\n",
       "academic_performance           -0.720922\n",
       "safety                         -0.709602\n",
       "basic_needs                    -0.708968\n",
       "teacher_student_relationship   -0.680163\n",
       "social_support                 -0.632497\n",
       "living_conditions              -0.581723\n",
       "blood_pressure                  0.394200\n",
       "breathing_problem               0.573984\n",
       "study_load                      0.634156\n",
       "mental_health_history           0.648644\n",
       "noise_level                     0.663371\n",
       "peer_pressure                   0.690684\n",
       "extracurricular_activities      0.692977\n",
       "headache                        0.713484\n",
       "depression                      0.734379\n",
       "anxiety_level                   0.736795\n",
       "future_career_concerns          0.742619\n",
       "bullying                        0.751162\n",
       "stress_level                    1.000000\n",
       "Name: stress_level, dtype: float64"
      ]
     },
     "execution_count": 21,
     "metadata": {},
     "output_type": "execute_result"
    }
   ],
   "source": [
    "features = data.corr()['stress_level'].sort_values()\n",
    "features"
   ]
  },
  {
   "cell_type": "markdown",
   "metadata": {},
   "source": [
    "### 5) Hypothesis testing\n",
    "\n",
    "For the purpose of this notebook we choose to test hypothesis 1."
   ]
  },
  {
   "cell_type": "markdown",
   "metadata": {},
   "source": [
    "Hypothesis 1: The average anxiety level of students with strong and very strong academic performance (i.e. 4 or 5) is the same.\n",
    "\n",
    "$ 𝐻_{0}:\\mu_{4} = \\mu_{5} $ The average anxiety levels are the same for students with strong and very strong academic performace. \\\n",
    "$ 𝐻_{A}:\\mu_{4} \\ne \\mu_{5} $ The average anxiety levels are the NOT the same for students with strong and very strong academic performace.\n",
    "\n",
    "In this test we have to look at the distibutions of anxiety levels among the two examined performance levels."
   ]
  },
  {
   "cell_type": "code",
   "execution_count": 22,
   "metadata": {},
   "outputs": [],
   "source": [
    "ac_perf = data[(data['academic_performance']==4) | (data['academic_performance']==5)]\n",
    "ac_perf = ac_perf[['academic_performance','anxiety_level']]"
   ]
  },
  {
   "cell_type": "code",
   "execution_count": 23,
   "metadata": {},
   "outputs": [
    {
     "name": "stderr",
     "output_type": "stream",
     "text": [
      "/Users/jacopoferreri/opt/anaconda3/lib/python3.9/site-packages/seaborn/distributions.py:2619: FutureWarning: `distplot` is a deprecated function and will be removed in a future version. Please adapt your code to use either `displot` (a figure-level function with similar flexibility) or `kdeplot` (an axes-level function for kernel density plots).\n",
      "  warnings.warn(msg, FutureWarning)\n",
      "/Users/jacopoferreri/opt/anaconda3/lib/python3.9/site-packages/seaborn/distributions.py:2619: FutureWarning: `distplot` is a deprecated function and will be removed in a future version. Please adapt your code to use either `displot` (a figure-level function with similar flexibility) or `kdeplot` (an axes-level function for kernel density plots).\n",
      "  warnings.warn(msg, FutureWarning)\n"
     ]
    },
    {
     "data": {
      "image/png": "[encoded data removed]",
      "text/plain": [
       "<Figure size 432x288 with 1 Axes>"
      ]
     },
     "metadata": {
      "needs_background": "light"
     },
     "output_type": "display_data"
    }
   ],
   "source": [
    "sns.distplot(ac_perf[ac_perf['academic_performance']==4],color='green',hist=False)\n",
    "sns.distplot(ac_perf[ac_perf['academic_performance']==5],color='red',hist=False)\n",
    "plt.show()"
   ]
  },
  {
   "cell_type": "markdown",
   "metadata": {},
   "source": [
    "Next we calculate the average values for the two categories."
   ]
  },
  {
   "cell_type": "code",
   "execution_count": 24,
   "metadata": {},
   "outputs": [
    {
     "name": "stdout",
     "output_type": "stream",
     "text": [
      "5.090425531914893\n",
      "5.587912087912088\n"
     ]
    }
   ],
   "source": [
    "mean_4 = ac_perf[ac_perf['academic_performance']==4].anxiety_level.mean()\n",
    "mean_5 = ac_perf[ac_perf['academic_performance']==5].anxiety_level.mean()\n",
    "print(mean_4)\n",
    "print(mean_5)"
   ]
  },
  {
   "cell_type": "markdown",
   "metadata": {},
   "source": [
    "Let's isolate the values of interest"
   ]
  },
  {
   "cell_type": "code",
   "execution_count": 25,
   "metadata": {},
   "outputs": [
    {
     "name": "stdout",
     "output_type": "stream",
     "text": [
      "188\n",
      "182\n"
     ]
    }
   ],
   "source": [
    "anx_lev_4 = ac_perf[ac_perf['academic_performance']==4].anxiety_level.values\n",
    "anx_lev_5 = ac_perf[ac_perf['academic_performance']==5].anxiety_level.values\n",
    "print(len(anx_lev_4))\n",
    "print(len(anx_lev_5))"
   ]
  },
  {
   "cell_type": "markdown",
   "metadata": {},
   "source": [
    "Since we have two populations > 30 and we're trying to test an hypothesis regarding the mean we need to use a Z-score test.\\\n",
    "We use alpha = 0.05"
   ]
  },
  {
   "cell_type": "code",
   "execution_count": 26,
   "metadata": {},
   "outputs": [
    {
     "name": "stdout",
     "output_type": "stream",
     "text": [
      "t_stat =  -1.1043829258869398 , p_value =  0.26942706414692186\n"
     ]
    }
   ],
   "source": [
    "from statsmodels.stats.weightstats import ztest\n",
    "z_stat, p_value = ztest(anx_lev_4, anx_lev_5, value=0)   #value = 0 means we're testing the same-mean hypothesis\n",
    "print(\"t_stat = \", z_stat, \", p_value = \", p_value)"
   ]
  },
  {
   "cell_type": "markdown",
   "metadata": {},
   "source": [
    "Since p-value is 0.27 > alpha then we fail to reject the null hypothesis and so the populations means can be the same"
   ]
  },
  {
   "cell_type": "markdown",
   "metadata": {},
   "source": [
    "### 6) Features selection. Which are the best features to use to predict a student's stress level?"
   ]
  },
  {
   "cell_type": "markdown",
   "metadata": {},
   "source": [
    "To simplify the dataset we can narrow down the features set by selecting just the ones that have a correlation score > 0.7 or < -0.7"
   ]
  },
  {
   "cell_type": "code",
   "execution_count": 27,
   "metadata": {},
   "outputs": [
    {
     "data": {
      "text/html": [
       "<div>\n",
       "<style scoped>\n",
       "    .dataframe tbody tr th:only-of-type {\n",
       "        vertical-align: middle;\n",
       "    }\n",
       "\n",
       "    .dataframe tbody tr th {\n",
       "        vertical-align: top;\n",
       "    }\n",
       "\n",
       "    .dataframe thead th {\n",
       "        text-align: right;\n",
       "    }\n",
       "</style>\n",
       "<table border=\"1\" class=\"dataframe\">\n",
       "  <thead>\n",
       "    <tr style=\"text-align: right;\">\n",
       "      <th></th>\n",
       "      <th>self_esteem</th>\n",
       "      <th>sleep_quality</th>\n",
       "      <th>academic_performance</th>\n",
       "      <th>safety</th>\n",
       "      <th>basic_needs</th>\n",
       "      <th>headache</th>\n",
       "      <th>depression</th>\n",
       "      <th>anxiety_level</th>\n",
       "      <th>future_career_concerns</th>\n",
       "      <th>bullying</th>\n",
       "      <th>stress_level</th>\n",
       "    </tr>\n",
       "  </thead>\n",
       "  <tbody>\n",
       "    <tr>\n",
       "      <th>0</th>\n",
       "      <td>20</td>\n",
       "      <td>2</td>\n",
       "      <td>3</td>\n",
       "      <td>3</td>\n",
       "      <td>2</td>\n",
       "      <td>2</td>\n",
       "      <td>11</td>\n",
       "      <td>14</td>\n",
       "      <td>3</td>\n",
       "      <td>2</td>\n",
       "      <td>1</td>\n",
       "    </tr>\n",
       "    <tr>\n",
       "      <th>1</th>\n",
       "      <td>8</td>\n",
       "      <td>1</td>\n",
       "      <td>1</td>\n",
       "      <td>2</td>\n",
       "      <td>2</td>\n",
       "      <td>5</td>\n",
       "      <td>15</td>\n",
       "      <td>15</td>\n",
       "      <td>5</td>\n",
       "      <td>5</td>\n",
       "      <td>2</td>\n",
       "    </tr>\n",
       "    <tr>\n",
       "      <th>2</th>\n",
       "      <td>18</td>\n",
       "      <td>2</td>\n",
       "      <td>2</td>\n",
       "      <td>3</td>\n",
       "      <td>2</td>\n",
       "      <td>2</td>\n",
       "      <td>14</td>\n",
       "      <td>12</td>\n",
       "      <td>2</td>\n",
       "      <td>2</td>\n",
       "      <td>1</td>\n",
       "    </tr>\n",
       "    <tr>\n",
       "      <th>3</th>\n",
       "      <td>12</td>\n",
       "      <td>1</td>\n",
       "      <td>2</td>\n",
       "      <td>2</td>\n",
       "      <td>2</td>\n",
       "      <td>4</td>\n",
       "      <td>15</td>\n",
       "      <td>16</td>\n",
       "      <td>4</td>\n",
       "      <td>5</td>\n",
       "      <td>2</td>\n",
       "    </tr>\n",
       "    <tr>\n",
       "      <th>4</th>\n",
       "      <td>28</td>\n",
       "      <td>5</td>\n",
       "      <td>4</td>\n",
       "      <td>4</td>\n",
       "      <td>3</td>\n",
       "      <td>2</td>\n",
       "      <td>7</td>\n",
       "      <td>16</td>\n",
       "      <td>2</td>\n",
       "      <td>5</td>\n",
       "      <td>1</td>\n",
       "    </tr>\n",
       "    <tr>\n",
       "      <th>...</th>\n",
       "      <td>...</td>\n",
       "      <td>...</td>\n",
       "      <td>...</td>\n",
       "      <td>...</td>\n",
       "      <td>...</td>\n",
       "      <td>...</td>\n",
       "      <td>...</td>\n",
       "      <td>...</td>\n",
       "      <td>...</td>\n",
       "      <td>...</td>\n",
       "      <td>...</td>\n",
       "    </tr>\n",
       "    <tr>\n",
       "      <th>1095</th>\n",
       "      <td>17</td>\n",
       "      <td>3</td>\n",
       "      <td>2</td>\n",
       "      <td>2</td>\n",
       "      <td>3</td>\n",
       "      <td>3</td>\n",
       "      <td>14</td>\n",
       "      <td>11</td>\n",
       "      <td>3</td>\n",
       "      <td>3</td>\n",
       "      <td>1</td>\n",
       "    </tr>\n",
       "    <tr>\n",
       "      <th>1096</th>\n",
       "      <td>12</td>\n",
       "      <td>0</td>\n",
       "      <td>0</td>\n",
       "      <td>3</td>\n",
       "      <td>4</td>\n",
       "      <td>0</td>\n",
       "      <td>8</td>\n",
       "      <td>9</td>\n",
       "      <td>1</td>\n",
       "      <td>3</td>\n",
       "      <td>2</td>\n",
       "    </tr>\n",
       "    <tr>\n",
       "      <th>1097</th>\n",
       "      <td>26</td>\n",
       "      <td>5</td>\n",
       "      <td>5</td>\n",
       "      <td>4</td>\n",
       "      <td>4</td>\n",
       "      <td>1</td>\n",
       "      <td>3</td>\n",
       "      <td>4</td>\n",
       "      <td>1</td>\n",
       "      <td>1</td>\n",
       "      <td>0</td>\n",
       "    </tr>\n",
       "    <tr>\n",
       "      <th>1098</th>\n",
       "      <td>0</td>\n",
       "      <td>1</td>\n",
       "      <td>2</td>\n",
       "      <td>1</td>\n",
       "      <td>1</td>\n",
       "      <td>5</td>\n",
       "      <td>19</td>\n",
       "      <td>21</td>\n",
       "      <td>4</td>\n",
       "      <td>4</td>\n",
       "      <td>2</td>\n",
       "    </tr>\n",
       "    <tr>\n",
       "      <th>1099</th>\n",
       "      <td>6</td>\n",
       "      <td>0</td>\n",
       "      <td>3</td>\n",
       "      <td>4</td>\n",
       "      <td>3</td>\n",
       "      <td>3</td>\n",
       "      <td>15</td>\n",
       "      <td>18</td>\n",
       "      <td>3</td>\n",
       "      <td>4</td>\n",
       "      <td>2</td>\n",
       "    </tr>\n",
       "  </tbody>\n",
       "</table>\n",
       "<p>1100 rows × 11 columns</p>\n",
       "</div>"
      ],
      "text/plain": [
       "      self_esteem  sleep_quality  academic_performance  safety  basic_needs  \\\n",
       "0              20              2                     3       3            2   \n",
       "1               8              1                     1       2            2   \n",
       "2              18              2                     2       3            2   \n",
       "3              12              1                     2       2            2   \n",
       "4              28              5                     4       4            3   \n",
       "...           ...            ...                   ...     ...          ...   \n",
       "1095           17              3                     2       2            3   \n",
       "1096           12              0                     0       3            4   \n",
       "1097           26              5                     5       4            4   \n",
       "1098            0              1                     2       1            1   \n",
       "1099            6              0                     3       4            3   \n",
       "\n",
       "      headache  depression  anxiety_level  future_career_concerns  bullying  \\\n",
       "0            2          11             14                       3         2   \n",
       "1            5          15             15                       5         5   \n",
       "2            2          14             12                       2         2   \n",
       "3            4          15             16                       4         5   \n",
       "4            2           7             16                       2         5   \n",
       "...        ...         ...            ...                     ...       ...   \n",
       "1095         3          14             11                       3         3   \n",
       "1096         0           8              9                       1         3   \n",
       "1097         1           3              4                       1         1   \n",
       "1098         5          19             21                       4         4   \n",
       "1099         3          15             18                       3         4   \n",
       "\n",
       "      stress_level  \n",
       "0                1  \n",
       "1                2  \n",
       "2                1  \n",
       "3                2  \n",
       "4                1  \n",
       "...            ...  \n",
       "1095             1  \n",
       "1096             2  \n",
       "1097             0  \n",
       "1098             2  \n",
       "1099             2  \n",
       "\n",
       "[1100 rows x 11 columns]"
      ]
     },
     "execution_count": 27,
     "metadata": {},
     "output_type": "execute_result"
    }
   ],
   "source": [
    "simpler_data = data[['self_esteem','sleep_quality','academic_performance','safety','basic_needs','headache','depression','anxiety_level','future_career_concerns','bullying','stress_level']]\n",
    "simpler_data"
   ]
  },
  {
   "cell_type": "markdown",
   "metadata": {},
   "source": [
    "Now let's plot an heatmap of the new dataset to also show correlation between variables"
   ]
  },
  {
   "cell_type": "code",
   "execution_count": 28,
   "metadata": {},
   "outputs": [
    {
     "data": {
      "image/png": "[encoded data removed]",
      "text/plain": [
       "<Figure size 1296x1296 with 2 Axes>"
      ]
     },
     "metadata": {
      "needs_background": "light"
     },
     "output_type": "display_data"
    }
   ],
   "source": [
    "plt.figure(figsize=(18,18))\n",
    "sns.heatmap(simpler_data.corr(),annot=True,cmap='RdYlGn')\n",
    "plt.show()"
   ]
  },
  {
   "cell_type": "markdown",
   "metadata": {},
   "source": [
    "### 7) Next steps\n",
    "\n",
    "In the next steps we could undertake a PCA analysis to reduce dimensionality. Once we know what variables to use, a proper scaling should be done. This could be useful for a future ML model developement aimed at predicting stress level among students.\\\n",
    "For future research it could also be useful to survey other health related attributes like for example the diet quality and the BMI. While on the social side it could be interesting to survey some more family-related attributes, like for example parents divorced YES/NO and family income."
   ]
  }
 ],
 "metadata": {
  "kernelspec": {
   "display_name": "base",
   "language": "python",
   "name": "python3"
  },
  "language_info": {
   "codemirror_mode": {
    "name": "ipython",
    "version": 3
   },
   "file_extension": ".py",
   "mimetype": "text/x-python",
   "name": "python",
   "nbconvert_exporter": "python",
   "pygments_lexer": "ipython3",
   "version": "3.9.7"
  }
 },
 "nbformat": 4,
 "nbformat_minor": 2
}
